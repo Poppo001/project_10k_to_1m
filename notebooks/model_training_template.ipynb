{
 "cells": [
  {
   "cell_type": "code",
   "execution_count": null,
   "id": "61ae842f",
   "metadata": {
    "vscode": {
     "languageId": "plaintext"
    }
   },
   "outputs": [],
   "source": [
    "# Google Drive 連携\n",
    "from google.colab import drive\n",
    "drive.mount('/content/drive')\n",
    "\n",
    "# 必要ライブラリ\n",
    "!pip install xgboost lightgbm shap optuna pandas-ta\n",
    "\n",
    "# データ読み込み例\n",
    "import pandas as pd\n",
    "df = pd.read_csv('/content/drive/MyDrive/Project_10k_to_1m/data/processed/USDJPY_H1.csv')\n",
    "\n",
    "# 学習モデル例（XGBoost）\n",
    "from xgboost import XGBClassifier\n",
    "model = XGBClassifier()\n",
    "model.fit(df.drop('target', axis=1), df['target'])"
   ]
  }
 ],
 "metadata": {
  "language_info": {
   "name": "python"
  }
 },
 "nbformat": 4,
 "nbformat_minor": 5
}
